{
 "cells": [
  {
   "cell_type": "code",
   "execution_count": 1,
   "metadata": {},
   "outputs": [],
   "source": [
    "import pandas as pd\n",
    "import matplotlib.pyplot as plt\n",
    "from operator import attrgetter"
   ]
  },
  {
   "cell_type": "code",
   "execution_count": 2,
   "metadata": {},
   "outputs": [],
   "source": [
    "customers = pd.read_csv('olist_customers_dataset.csv')\n",
    "orders = pd.read_csv('olist_orders_dataset.csv')\n",
    "orderitems = pd.read_csv('olist_order_items_dataset.csv')"
   ]
  },
  {
   "cell_type": "markdown",
   "metadata": {},
   "source": [
    "Построй RFM-сегментацию пользователей, чтобы качественно оценить свою аудиторию.\n",
    "\n",
    "R - время от последней покупки пользователя до текущей даты.\n",
    "F - суммарное количество покупок у пользователя за всё время.\n",
    "M - сумма покупок за всё время.\n",
    "\n",
    "Для каждого RFM-сегмента построй границы метрик recency, frequency и monetary для интерпретации этих кластеров.\n",
    "\n",
    "\n",
    "# Решение по шагам:\n",
    "\n",
    "1) Считаем R.\n",
    "\n",
    "2) Считаем F.\n",
    "\n",
    "3) Считаем M.\n",
    "\n",
    "4) Мерджим данные по R, F и М в датафрейм rfm.\n",
    "\n",
    "5) Написал функцию, присваивающую оценку каждой метрике пользователя.\n",
    "\n",
    "6) Создал колонку 'rfm_score'.\n",
    "\n",
    "7) Разбил пользователей на категории.\n",
    "\n",
    "Extra. Сделал визуализацию по категориям пользователей."
   ]
  },
  {
   "cell_type": "markdown",
   "metadata": {},
   "source": [
    "# Шаг №1. Считаем R.\n",
    "\n",
    "R - время от последней покупки пользователя до текущей даты.\n",
    "\n",
    "Я замерджил датафреймы customers и orders по 'customer_id'. Полученный датафрейм назвал task_r.\n",
    "\n",
    "Нашел время самого последнего заказа с помощью max() ('last_order'). "
   ]
  },
  {
   "cell_type": "code",
   "execution_count": 48,
   "metadata": {},
   "outputs": [
    {
     "data": {
      "text/plain": [
       "Timestamp('2018-10-17 17:30:18')"
      ]
     },
     "execution_count": 48,
     "metadata": {},
     "output_type": "execute_result"
    }
   ],
   "source": [
    "# Замерджил датафреймы customers и orders по 'customer_id'.\n",
    "task_r = customers.merge(orders, on = 'customer_id')\n",
    "# Нашел время самого последнего заказа с помощью max(). \n",
    "task_r['order_purchase_timestamp'] = pd.to_datetime(task_r['order_purchase_timestamp'])\n",
    "last_order = task_r.order_purchase_timestamp.max()\n",
    "last_order"
   ]
  },
  {
   "cell_type": "markdown",
   "metadata": {},
   "source": [
    "Выяснил разницу в днях между самым последним заказом и последним заказом каждого уникального пользователя,вычислив из датафрейма last_order дату последнего заказа каждого пользователя. Эту разницу для каждого пользователя я занес в колонку 'time_from_last_order', а после перевел в формат дней."
   ]
  },
  {
   "cell_type": "code",
   "execution_count": 49,
   "metadata": {},
   "outputs": [
    {
     "data": {
      "text/html": [
       "<div>\n",
       "<style scoped>\n",
       "    .dataframe tbody tr th:only-of-type {\n",
       "        vertical-align: middle;\n",
       "    }\n",
       "\n",
       "    .dataframe tbody tr th {\n",
       "        vertical-align: top;\n",
       "    }\n",
       "\n",
       "    .dataframe thead th {\n",
       "        text-align: right;\n",
       "    }\n",
       "</style>\n",
       "<table border=\"1\" class=\"dataframe\">\n",
       "  <thead>\n",
       "    <tr style=\"text-align: right;\">\n",
       "      <th></th>\n",
       "      <th>order_purchase_timestamp</th>\n",
       "      <th>time_from_last_order</th>\n",
       "    </tr>\n",
       "    <tr>\n",
       "      <th>customer_unique_id</th>\n",
       "      <th></th>\n",
       "      <th></th>\n",
       "    </tr>\n",
       "  </thead>\n",
       "  <tbody>\n",
       "    <tr>\n",
       "      <th>87ab9fec999db8bd5774917de3cdf01c</th>\n",
       "      <td>2018-10-17 17:30:18</td>\n",
       "      <td>0</td>\n",
       "    </tr>\n",
       "    <tr>\n",
       "      <th>262e1f1e26e92e86375f86840b4ffd63</th>\n",
       "      <td>2018-10-16 20:16:02</td>\n",
       "      <td>0</td>\n",
       "    </tr>\n",
       "    <tr>\n",
       "      <th>af5454198a97379394cacf676e1e96cb</th>\n",
       "      <td>2018-10-03 18:55:29</td>\n",
       "      <td>13</td>\n",
       "    </tr>\n",
       "  </tbody>\n",
       "</table>\n",
       "</div>"
      ],
      "text/plain": [
       "                                 order_purchase_timestamp  \\\n",
       "customer_unique_id                                          \n",
       "87ab9fec999db8bd5774917de3cdf01c      2018-10-17 17:30:18   \n",
       "262e1f1e26e92e86375f86840b4ffd63      2018-10-16 20:16:02   \n",
       "af5454198a97379394cacf676e1e96cb      2018-10-03 18:55:29   \n",
       "\n",
       "                                  time_from_last_order  \n",
       "customer_unique_id                                      \n",
       "87ab9fec999db8bd5774917de3cdf01c                     0  \n",
       "262e1f1e26e92e86375f86840b4ffd63                     0  \n",
       "af5454198a97379394cacf676e1e96cb                    13  "
      ]
     },
     "execution_count": 49,
     "metadata": {},
     "output_type": "execute_result"
    }
   ],
   "source": [
    "# Вычисляем дату последнего заказа каждого пользователя.\n",
    "task_r = task_r.groupby('customer_unique_id').agg({'order_purchase_timestamp': 'max'})\n",
    "# Вычисляем разницу между самым последним заказом и последним заказом каждого пользователя.\n",
    "task_r['time_from_last_order'] = last_order - task_r.order_purchase_timestamp\n",
    "task_r['time_from_last_order'] = task_r['time_from_last_order'].dt.days\n",
    "task_r = task_r.sort_values('time_from_last_order')\n",
    "task_r.head(3)"
   ]
  },
  {
   "cell_type": "markdown",
   "metadata": {},
   "source": [
    "# Шаг №2. Считаем F.\n",
    "\n",
    "F - суммарное количество покупок у пользователя за всё время.\n",
    "\n",
    "Замерджил датафреймы customers и orders по 'customer_id'. Полученный датафрейм назвал task_f.\n",
    "\n",
    "После я посчитал суммарное количество покупок у каждого уникального пользователя за всё время."
   ]
  },
  {
   "cell_type": "code",
   "execution_count": 50,
   "metadata": {},
   "outputs": [
    {
     "data": {
      "text/html": [
       "<div>\n",
       "<style scoped>\n",
       "    .dataframe tbody tr th:only-of-type {\n",
       "        vertical-align: middle;\n",
       "    }\n",
       "\n",
       "    .dataframe tbody tr th {\n",
       "        vertical-align: top;\n",
       "    }\n",
       "\n",
       "    .dataframe thead th {\n",
       "        text-align: right;\n",
       "    }\n",
       "</style>\n",
       "<table border=\"1\" class=\"dataframe\">\n",
       "  <thead>\n",
       "    <tr style=\"text-align: right;\">\n",
       "      <th></th>\n",
       "      <th>order_id</th>\n",
       "    </tr>\n",
       "    <tr>\n",
       "      <th>customer_unique_id</th>\n",
       "      <th></th>\n",
       "    </tr>\n",
       "  </thead>\n",
       "  <tbody>\n",
       "    <tr>\n",
       "      <th>8d50f5eadf50201ccdcedfb9e2ac8455</th>\n",
       "      <td>17</td>\n",
       "    </tr>\n",
       "    <tr>\n",
       "      <th>3e43e6105506432c953e165fb2acf44c</th>\n",
       "      <td>9</td>\n",
       "    </tr>\n",
       "    <tr>\n",
       "      <th>6469f99c1f9dfae7733b25662e7f1782</th>\n",
       "      <td>7</td>\n",
       "    </tr>\n",
       "  </tbody>\n",
       "</table>\n",
       "</div>"
      ],
      "text/plain": [
       "                                  order_id\n",
       "customer_unique_id                        \n",
       "8d50f5eadf50201ccdcedfb9e2ac8455        17\n",
       "3e43e6105506432c953e165fb2acf44c         9\n",
       "6469f99c1f9dfae7733b25662e7f1782         7"
      ]
     },
     "execution_count": 50,
     "metadata": {},
     "output_type": "execute_result"
    }
   ],
   "source": [
    "# Мерджим датафреймы customers и orders по 'customer_id'.\n",
    "task_f = customers.merge(orders, on = 'customer_id')\n",
    "# Считаем суммарное количество покупок у каждого уникального пользователя за всё время.\n",
    "task_f = task_f.groupby('customer_unique_id')\\\n",
    "    .agg({'order_id': 'count'})\\\n",
    "    .sort_values('order_id', ascending = False)\n",
    "task_f.head(3)"
   ]
  },
  {
   "cell_type": "markdown",
   "metadata": {},
   "source": [
    "# Шаг №3. Считаем M.\n",
    "\n",
    "M - сумма покупок за всё время.\n",
    "\n",
    "Выяснил сколько стоила каждая покупка и сохранил данные в m_items.\n",
    "\n",
    "Сделал мердж m_items с orders по 'order_id'.\n",
    "\n",
    "Выяснил сколько стоила каждый заказ (m_merge).\n",
    "\n",
    "Сделал мердж m_merge с orders по 'customer_id'.\n",
    "\n",
    "Выяснил сколько денег принес каждый уникальный пользователь (task_m)."
   ]
  },
  {
   "cell_type": "code",
   "execution_count": 51,
   "metadata": {},
   "outputs": [
    {
     "data": {
      "text/html": [
       "<div>\n",
       "<style scoped>\n",
       "    .dataframe tbody tr th:only-of-type {\n",
       "        vertical-align: middle;\n",
       "    }\n",
       "\n",
       "    .dataframe tbody tr th {\n",
       "        vertical-align: top;\n",
       "    }\n",
       "\n",
       "    .dataframe thead th {\n",
       "        text-align: right;\n",
       "    }\n",
       "</style>\n",
       "<table border=\"1\" class=\"dataframe\">\n",
       "  <thead>\n",
       "    <tr style=\"text-align: right;\">\n",
       "      <th></th>\n",
       "      <th>price</th>\n",
       "    </tr>\n",
       "    <tr>\n",
       "      <th>order_id</th>\n",
       "      <th></th>\n",
       "    </tr>\n",
       "  </thead>\n",
       "  <tbody>\n",
       "    <tr>\n",
       "      <th>00010242fe8c5a6d1ba2dd792cb16214</th>\n",
       "      <td>58.9</td>\n",
       "    </tr>\n",
       "    <tr>\n",
       "      <th>00018f77f2f0320c557190d7a144bdd3</th>\n",
       "      <td>239.9</td>\n",
       "    </tr>\n",
       "    <tr>\n",
       "      <th>000229ec398224ef6ca0657da4fc703e</th>\n",
       "      <td>199.0</td>\n",
       "    </tr>\n",
       "  </tbody>\n",
       "</table>\n",
       "</div>"
      ],
      "text/plain": [
       "                                  price\n",
       "order_id                               \n",
       "00010242fe8c5a6d1ba2dd792cb16214   58.9\n",
       "00018f77f2f0320c557190d7a144bdd3  239.9\n",
       "000229ec398224ef6ca0657da4fc703e  199.0"
      ]
     },
     "execution_count": 51,
     "metadata": {},
     "output_type": "execute_result"
    }
   ],
   "source": [
    "# Выяснил сколько стоила каждая покупка.\n",
    "m_items = orderitems.groupby(['order_id', 'product_id'], as_index = False).agg({'price': 'sum'})\\\n",
    "    .groupby('order_id').agg({'price': 'sum'})\n",
    "m_items.head(3)"
   ]
  },
  {
   "cell_type": "code",
   "execution_count": 52,
   "metadata": {},
   "outputs": [
    {
     "data": {
      "text/html": [
       "<div>\n",
       "<style scoped>\n",
       "    .dataframe tbody tr th:only-of-type {\n",
       "        vertical-align: middle;\n",
       "    }\n",
       "\n",
       "    .dataframe tbody tr th {\n",
       "        vertical-align: top;\n",
       "    }\n",
       "\n",
       "    .dataframe thead th {\n",
       "        text-align: right;\n",
       "    }\n",
       "</style>\n",
       "<table border=\"1\" class=\"dataframe\">\n",
       "  <thead>\n",
       "    <tr style=\"text-align: right;\">\n",
       "      <th></th>\n",
       "      <th>price</th>\n",
       "    </tr>\n",
       "    <tr>\n",
       "      <th>customer_id</th>\n",
       "      <th></th>\n",
       "    </tr>\n",
       "  </thead>\n",
       "  <tbody>\n",
       "    <tr>\n",
       "      <th>00012a2ce6f8dcda20d059ce98491703</th>\n",
       "      <td>89.80</td>\n",
       "    </tr>\n",
       "    <tr>\n",
       "      <th>000161a058600d5901f007fab4c27140</th>\n",
       "      <td>54.90</td>\n",
       "    </tr>\n",
       "    <tr>\n",
       "      <th>0001fd6190edaaf884bcaf3d49edf079</th>\n",
       "      <td>179.99</td>\n",
       "    </tr>\n",
       "  </tbody>\n",
       "</table>\n",
       "</div>"
      ],
      "text/plain": [
       "                                   price\n",
       "customer_id                             \n",
       "00012a2ce6f8dcda20d059ce98491703   89.80\n",
       "000161a058600d5901f007fab4c27140   54.90\n",
       "0001fd6190edaaf884bcaf3d49edf079  179.99"
      ]
     },
     "execution_count": 52,
     "metadata": {},
     "output_type": "execute_result"
    }
   ],
   "source": [
    "# Сделал мердж m_items с orders по 'order_id'.\n",
    "m_merge = m_items.merge(orders, how='right', on='order_id')\n",
    "# Выяснил сколько стоила каждый заказ\n",
    "m_merge = m_merge.groupby('customer_id').agg({'price': 'sum'})\n",
    "m_merge.head(3)"
   ]
  },
  {
   "cell_type": "code",
   "execution_count": 53,
   "metadata": {},
   "outputs": [
    {
     "data": {
      "text/html": [
       "<div>\n",
       "<style scoped>\n",
       "    .dataframe tbody tr th:only-of-type {\n",
       "        vertical-align: middle;\n",
       "    }\n",
       "\n",
       "    .dataframe tbody tr th {\n",
       "        vertical-align: top;\n",
       "    }\n",
       "\n",
       "    .dataframe thead th {\n",
       "        text-align: right;\n",
       "    }\n",
       "</style>\n",
       "<table border=\"1\" class=\"dataframe\">\n",
       "  <thead>\n",
       "    <tr style=\"text-align: right;\">\n",
       "      <th></th>\n",
       "      <th>price</th>\n",
       "    </tr>\n",
       "    <tr>\n",
       "      <th>customer_unique_id</th>\n",
       "      <th></th>\n",
       "    </tr>\n",
       "  </thead>\n",
       "  <tbody>\n",
       "    <tr>\n",
       "      <th>0000366f3b9a7992bf8c76cfdf3221e2</th>\n",
       "      <td>129.9</td>\n",
       "    </tr>\n",
       "    <tr>\n",
       "      <th>0000b849f77a49e4a4ce2b2a4ca5be3f</th>\n",
       "      <td>18.9</td>\n",
       "    </tr>\n",
       "    <tr>\n",
       "      <th>0000f46a3911fa3c0805444483337064</th>\n",
       "      <td>69.0</td>\n",
       "    </tr>\n",
       "  </tbody>\n",
       "</table>\n",
       "</div>"
      ],
      "text/plain": [
       "                                  price\n",
       "customer_unique_id                     \n",
       "0000366f3b9a7992bf8c76cfdf3221e2  129.9\n",
       "0000b849f77a49e4a4ce2b2a4ca5be3f   18.9\n",
       "0000f46a3911fa3c0805444483337064   69.0"
      ]
     },
     "execution_count": 53,
     "metadata": {},
     "output_type": "execute_result"
    }
   ],
   "source": [
    "# Сделал мердж m_merge с orders по 'customer_id'.\n",
    "task_m = m_merge.merge(customers, how='inner', on='customer_id')\n",
    "# Выяснил сколько денег принес каждый уникальный пользователь.\n",
    "task_m = task_m.groupby('customer_unique_id').agg({'price': 'sum'})\n",
    "task_m.head(3)"
   ]
  },
  {
   "cell_type": "markdown",
   "metadata": {},
   "source": [
    "Проверил, что ничего не потерял перед мерджем."
   ]
  },
  {
   "cell_type": "code",
   "execution_count": 54,
   "metadata": {},
   "outputs": [
    {
     "data": {
      "text/plain": [
       "True    96096\n",
       "Name: customer_unique_id, dtype: int64"
      ]
     },
     "execution_count": 54,
     "metadata": {},
     "output_type": "execute_result"
    }
   ],
   "source": [
    "(task_f.sort_values('customer_unique_id').reset_index().customer_unique_id == task_m.sort_values('customer_unique_id').reset_index().customer_unique_id)\\\n",
    "    .value_counts()"
   ]
  },
  {
   "cell_type": "markdown",
   "metadata": {},
   "source": [
    "Проверил, что ничего не потерял перед мерджем х2."
   ]
  },
  {
   "cell_type": "code",
   "execution_count": 55,
   "metadata": {},
   "outputs": [
    {
     "data": {
      "text/plain": [
       "True    96096\n",
       "Name: customer_unique_id, dtype: int64"
      ]
     },
     "execution_count": 55,
     "metadata": {},
     "output_type": "execute_result"
    }
   ],
   "source": [
    "(task_m.sort_values('customer_unique_id').reset_index().customer_unique_id == task_r.sort_values('customer_unique_id').reset_index().customer_unique_id)\\\n",
    "    .value_counts()"
   ]
  },
  {
   "cell_type": "markdown",
   "metadata": {},
   "source": [
    "# Шаг №4. Создаем датафрейм rfm.\n",
    "\n",
    "Я соединил данные по R, F и М в один датафрейм (rfm)."
   ]
  },
  {
   "cell_type": "code",
   "execution_count": 56,
   "metadata": {},
   "outputs": [
    {
     "data": {
      "text/html": [
       "<div>\n",
       "<style scoped>\n",
       "    .dataframe tbody tr th:only-of-type {\n",
       "        vertical-align: middle;\n",
       "    }\n",
       "\n",
       "    .dataframe tbody tr th {\n",
       "        vertical-align: top;\n",
       "    }\n",
       "\n",
       "    .dataframe thead th {\n",
       "        text-align: right;\n",
       "    }\n",
       "</style>\n",
       "<table border=\"1\" class=\"dataframe\">\n",
       "  <thead>\n",
       "    <tr style=\"text-align: right;\">\n",
       "      <th></th>\n",
       "      <th>recency</th>\n",
       "      <th>frequency</th>\n",
       "      <th>monetary</th>\n",
       "    </tr>\n",
       "    <tr>\n",
       "      <th>customer_unique_id</th>\n",
       "      <th></th>\n",
       "      <th></th>\n",
       "      <th></th>\n",
       "    </tr>\n",
       "  </thead>\n",
       "  <tbody>\n",
       "    <tr>\n",
       "      <th>87ab9fec999db8bd5774917de3cdf01c</th>\n",
       "      <td>0</td>\n",
       "      <td>1</td>\n",
       "      <td>0.0</td>\n",
       "    </tr>\n",
       "    <tr>\n",
       "      <th>262e1f1e26e92e86375f86840b4ffd63</th>\n",
       "      <td>0</td>\n",
       "      <td>2</td>\n",
       "      <td>197.5</td>\n",
       "    </tr>\n",
       "    <tr>\n",
       "      <th>af5454198a97379394cacf676e1e96cb</th>\n",
       "      <td>13</td>\n",
       "      <td>3</td>\n",
       "      <td>178.0</td>\n",
       "    </tr>\n",
       "    <tr>\n",
       "      <th>634420a0ea42302205032ed44ac7fccc</th>\n",
       "      <td>16</td>\n",
       "      <td>2</td>\n",
       "      <td>65.0</td>\n",
       "    </tr>\n",
       "    <tr>\n",
       "      <th>9bb92bebd4cb7511e1a02d5e50bc4655</th>\n",
       "      <td>18</td>\n",
       "      <td>1</td>\n",
       "      <td>0.0</td>\n",
       "    </tr>\n",
       "  </tbody>\n",
       "</table>\n",
       "</div>"
      ],
      "text/plain": [
       "                                  recency  frequency  monetary\n",
       "customer_unique_id                                            \n",
       "87ab9fec999db8bd5774917de3cdf01c        0          1       0.0\n",
       "262e1f1e26e92e86375f86840b4ffd63        0          2     197.5\n",
       "af5454198a97379394cacf676e1e96cb       13          3     178.0\n",
       "634420a0ea42302205032ed44ac7fccc       16          2      65.0\n",
       "9bb92bebd4cb7511e1a02d5e50bc4655       18          1       0.0"
      ]
     },
     "execution_count": 56,
     "metadata": {},
     "output_type": "execute_result"
    }
   ],
   "source": [
    "task_r = task_r.merge(task_f, how='left', on='customer_unique_id').merge(task_m, how='left', on='customer_unique_id')\n",
    "task_r = task_r[['time_from_last_order', 'order_id', 'price']]\n",
    "rfm = pd.DataFrame\n",
    "rfm = task_r\n",
    "# Для удобства переименовываю колнки.\n",
    "rfm = rfm.rename(columns={'time_from_last_order': 'recency', 'order_id': 'frequency', 'price': 'monetary'})\n",
    "rfm.head()"
   ]
  },
  {
   "cell_type": "markdown",
   "metadata": {},
   "source": [
    "# Шаг №5. Пишем функции, присваивающие оценку каждой метрике пользователя.\n",
    "\n",
    "# R\n",
    "По данной метрике можно было получить оценку от 1 до 5 в зависимости от того, насколько давно пользователь делал последнюю покупку.\n",
    "\n",
    "Оценка давалась исходя из сравнения 'recency' пользователя с перцентилем 'recency' всех пользователей.\n",
    "\n",
    "Чем больше оказывалось 'recency', тем меньше получался итоговый балл.\n",
    "\n",
    "# M\n",
    "По данной метрике можно было получить оценку от 1 до 5 в зависимости от размера дохода, который принес пользователь.\n",
    "\n",
    "Оценка давалась исходя из сравнения 'monetary' пользователя с перцентилем 'monetary' всех пользователей.\n",
    "\n",
    "Чем больше оказывалось 'monetary', тем больше получался итоговый балл.    \n",
    "\n",
    "# F\n",
    "Перцентили не использовались для дачи оценки, так как подавляющее большинство пользователей сделали одну покупку. \n",
    "\n",
    "Использовав функцию 'value_counts()', я выяснил какие 'frequency' встречаются в массиве и определил систему оценивания.\n",
    "\n",
    "По данной метрике можно было получить оценку от 1 до 2 в зависимости от частоты покупок пользователя.\n",
    "\n",
    "- 1 получали те, кто сделал одну покупку.\n",
    "\n",
    "- 2 получали те, кто вернулся после первой покупки."
   ]
  },
  {
   "cell_type": "code",
   "execution_count": 57,
   "metadata": {},
   "outputs": [
    {
     "data": {
      "text/plain": [
       "17        1\n",
       "9         1\n",
       "7         3\n",
       "6         6\n",
       "5         8\n",
       "4        30\n",
       "3       203\n",
       "2      2745\n",
       "1     93099\n",
       "Name: frequency, dtype: int64"
      ]
     },
     "execution_count": 57,
     "metadata": {},
     "output_type": "execute_result"
    }
   ],
   "source": [
    "def r_score(x):\n",
    "    if x >= rfm.recency.quantile(0.8):\n",
    "        return 1\n",
    "    elif x >= rfm.recency.quantile(0.6):\n",
    "        return 2\n",
    "    elif x >= rfm.recency.quantile(0.4):\n",
    "        return 3\n",
    "    elif x >= rfm.recency.quantile(0.2):\n",
    "        return 4\n",
    "    else:\n",
    "        return 5 \n",
    "\n",
    "def m_score(x):\n",
    "    if x <= rfm.monetary.quantile(0.2):\n",
    "        return 1\n",
    "    elif x <= rfm.monetary.quantile(0.4):\n",
    "        return 2\n",
    "    elif x <= rfm.monetary.quantile(0.6):\n",
    "        return 3\n",
    "    elif x <= rfm.monetary.quantile(0.8):\n",
    "        return 4\n",
    "    else:\n",
    "        return 5\n",
    "\n",
    "def f_score(x):\n",
    "    if x == 1:\n",
    "        return 1\n",
    "    elif x >= 2:\n",
    "        return 2\n",
    "\n",
    "# \"...какие 'frequency' встречаются в массиве...\"\n",
    "rfm.frequency.value_counts().sort_values()"
   ]
  },
  {
   "cell_type": "markdown",
   "metadata": {},
   "source": [
    "Далее я создал колнки для R, F, M, применив соответствующие функции к датафрейму rfm."
   ]
  },
  {
   "cell_type": "code",
   "execution_count": 58,
   "metadata": {},
   "outputs": [],
   "source": [
    "rfm['R'] = rfm['recency'].apply(lambda x: r_score(x))"
   ]
  },
  {
   "cell_type": "code",
   "execution_count": 59,
   "metadata": {},
   "outputs": [],
   "source": [
    "rfm['F'] = rfm['frequency'].apply(lambda x: f_score(x))"
   ]
  },
  {
   "cell_type": "code",
   "execution_count": 60,
   "metadata": {},
   "outputs": [],
   "source": [
    "rfm['M'] = rfm['monetary'].apply(lambda x: m_score(x))"
   ]
  },
  {
   "cell_type": "markdown",
   "metadata": {},
   "source": [
    "# Шаг №6. Cоздаем колнку 'rfm_score'.\n",
    "\n",
    "'rfm_score' в дальнейшем позволит мне присвоить каждому пользователю подходящий ранг. "
   ]
  },
  {
   "cell_type": "code",
   "execution_count": 61,
   "metadata": {},
   "outputs": [],
   "source": [
    "rfm['rfm_score'] = rfm['R'].map(str) + rfm['F'].map(str) + rfm['M'].map(str)"
   ]
  },
  {
   "cell_type": "markdown",
   "metadata": {},
   "source": [
    "# Шаг №7. Присваиваем ранг каждому пользователю.\n",
    "\n",
    "Каждый пользователь будет отнесен к своему сегменту в зависимости от своих показателей R и F. Ниже в segt_map можно поближе познакомиться с моей системой рангов.\n",
    "\n",
    "Сегмент пользователя будет показываться в колонке 'segment' в датафрейме rfm."
   ]
  },
  {
   "cell_type": "code",
   "execution_count": 62,
   "metadata": {},
   "outputs": [],
   "source": [
    "segt_map = {\n",
    "    r'[1-2]1': 'hibernating',\n",
    "    r'[1-2]2': 'at risk',\n",
    "    r'31': 'about to sleep',\n",
    "    r'32': 'need attention',\n",
    "    r'41': 'promising',\n",
    "    r'51': 'new customers',\n",
    "    r'[4-5][2]': 'loyal customers',\n",
    "}\n",
    "\n",
    "rfm['segment'] = rfm['R'].map(str) + rfm['F'].map(str)\n",
    "rfm['segment'] = rfm['segment'].replace(segt_map, regex=True)\n",
    "answer_6 = rfm"
   ]
  },
  {
   "cell_type": "code",
   "execution_count": 63,
   "metadata": {},
   "outputs": [
    {
     "data": {
      "text/html": [
       "<div>\n",
       "<style scoped>\n",
       "    .dataframe tbody tr th:only-of-type {\n",
       "        vertical-align: middle;\n",
       "    }\n",
       "\n",
       "    .dataframe tbody tr th {\n",
       "        vertical-align: top;\n",
       "    }\n",
       "\n",
       "    .dataframe thead th {\n",
       "        text-align: right;\n",
       "    }\n",
       "</style>\n",
       "<table border=\"1\" class=\"dataframe\">\n",
       "  <thead>\n",
       "    <tr style=\"text-align: right;\">\n",
       "      <th></th>\n",
       "      <th>recency</th>\n",
       "      <th>frequency</th>\n",
       "      <th>monetary</th>\n",
       "      <th>R</th>\n",
       "      <th>F</th>\n",
       "      <th>M</th>\n",
       "      <th>rfm_score</th>\n",
       "      <th>segment</th>\n",
       "    </tr>\n",
       "    <tr>\n",
       "      <th>customer_unique_id</th>\n",
       "      <th></th>\n",
       "      <th></th>\n",
       "      <th></th>\n",
       "      <th></th>\n",
       "      <th></th>\n",
       "      <th></th>\n",
       "      <th></th>\n",
       "      <th></th>\n",
       "    </tr>\n",
       "  </thead>\n",
       "  <tbody>\n",
       "    <tr>\n",
       "      <th>87ab9fec999db8bd5774917de3cdf01c</th>\n",
       "      <td>0</td>\n",
       "      <td>1</td>\n",
       "      <td>0.0</td>\n",
       "      <td>5</td>\n",
       "      <td>1</td>\n",
       "      <td>1</td>\n",
       "      <td>511</td>\n",
       "      <td>new customers</td>\n",
       "    </tr>\n",
       "    <tr>\n",
       "      <th>262e1f1e26e92e86375f86840b4ffd63</th>\n",
       "      <td>0</td>\n",
       "      <td>2</td>\n",
       "      <td>197.5</td>\n",
       "      <td>5</td>\n",
       "      <td>2</td>\n",
       "      <td>5</td>\n",
       "      <td>525</td>\n",
       "      <td>loyal customers</td>\n",
       "    </tr>\n",
       "    <tr>\n",
       "      <th>af5454198a97379394cacf676e1e96cb</th>\n",
       "      <td>13</td>\n",
       "      <td>3</td>\n",
       "      <td>178.0</td>\n",
       "      <td>5</td>\n",
       "      <td>2</td>\n",
       "      <td>4</td>\n",
       "      <td>524</td>\n",
       "      <td>loyal customers</td>\n",
       "    </tr>\n",
       "    <tr>\n",
       "      <th>634420a0ea42302205032ed44ac7fccc</th>\n",
       "      <td>16</td>\n",
       "      <td>2</td>\n",
       "      <td>65.0</td>\n",
       "      <td>5</td>\n",
       "      <td>2</td>\n",
       "      <td>2</td>\n",
       "      <td>522</td>\n",
       "      <td>loyal customers</td>\n",
       "    </tr>\n",
       "    <tr>\n",
       "      <th>9bb92bebd4cb7511e1a02d5e50bc4655</th>\n",
       "      <td>18</td>\n",
       "      <td>1</td>\n",
       "      <td>0.0</td>\n",
       "      <td>5</td>\n",
       "      <td>1</td>\n",
       "      <td>1</td>\n",
       "      <td>511</td>\n",
       "      <td>new customers</td>\n",
       "    </tr>\n",
       "  </tbody>\n",
       "</table>\n",
       "</div>"
      ],
      "text/plain": [
       "                                  recency  frequency  monetary  R  F  M  \\\n",
       "customer_unique_id                                                        \n",
       "87ab9fec999db8bd5774917de3cdf01c        0          1       0.0  5  1  1   \n",
       "262e1f1e26e92e86375f86840b4ffd63        0          2     197.5  5  2  5   \n",
       "af5454198a97379394cacf676e1e96cb       13          3     178.0  5  2  4   \n",
       "634420a0ea42302205032ed44ac7fccc       16          2      65.0  5  2  2   \n",
       "9bb92bebd4cb7511e1a02d5e50bc4655       18          1       0.0  5  1  1   \n",
       "\n",
       "                                 rfm_score          segment  \n",
       "customer_unique_id                                           \n",
       "87ab9fec999db8bd5774917de3cdf01c       511    new customers  \n",
       "262e1f1e26e92e86375f86840b4ffd63       525  loyal customers  \n",
       "af5454198a97379394cacf676e1e96cb       524  loyal customers  \n",
       "634420a0ea42302205032ed44ac7fccc       522  loyal customers  \n",
       "9bb92bebd4cb7511e1a02d5e50bc4655       511    new customers  "
      ]
     },
     "execution_count": 63,
     "metadata": {},
     "output_type": "execute_result"
    }
   ],
   "source": [
    "# Ответ на задачу №6.\n",
    "answer_6.head()"
   ]
  },
  {
   "cell_type": "markdown",
   "metadata": {},
   "source": [
    "# Extra\n",
    "\n",
    "Для быстрого анализа rfm-сегментов я построил три визуализации.\n",
    "\n",
    "# Extra 1. \n",
    "\n",
    "Я отразил разницу в количестве пользователей между всеми категориями."
   ]
  },
  {
   "cell_type": "code",
   "execution_count": 64,
   "metadata": {},
   "outputs": [
    {
     "data": {
      "image/png": "[encoded data removed]",
      "text/plain": [
       "<Figure size 432x288 with 1 Axes>"
      ]
     },
     "metadata": {},
     "output_type": "display_data"
    }
   ],
   "source": [
    "# Extra 1.\n",
    "task_6_viz_1 = rfm\n",
    "segments_counts = task_6_viz_1['segment'].value_counts().sort_values(ascending=True)\n",
    "\n",
    "fig, ax = plt.subplots()\n",
    "\n",
    "bars = ax.barh(range(len(segments_counts)),\n",
    "              segments_counts,\n",
    "              color='silver')\n",
    "ax.set_frame_on(False)\n",
    "ax.tick_params(left=False,\n",
    "               bottom=False,\n",
    "               labelbottom=False)\n",
    "ax.set_yticks(range(len(segments_counts)))\n",
    "ax.set_yticklabels(segments_counts.index)\n",
    "\n",
    "for i, bar in enumerate(bars):\n",
    "        value = bar.get_width()\n",
    "        if segments_counts.index[i] in ['loyal customers']:\n",
    "            bar.set_color('firebrick')\n",
    "        ax.text(value,\n",
    "                bar.get_y() + bar.get_height()/2,\n",
    "                '{:,} ({:}%)'.format(int(value),\n",
    "                                   int(value*100/segments_counts.sum())),\n",
    "                va='center',\n",
    "                ha='left'\n",
    "               )\n",
    "\n",
    "plt.show()"
   ]
  },
  {
   "cell_type": "markdown",
   "metadata": {},
   "source": [
    "# Extra 2.\n",
    "\n",
    "Я отразил разницу в количестве пользователей между категориями с высокой F-оценкой. На данной визуализацции заметно, что у анализируемого e-commerce имеется небольшая группа лояльных покупателей, которые стабильно возвращаются в наш магазин."
   ]
  },
  {
   "cell_type": "code",
   "execution_count": 65,
   "metadata": {},
   "outputs": [
    {
     "data": {
      "image/png": "[encoded data removed]",
      "text/plain": [
       "<Figure size 432x288 with 1 Axes>"
      ]
     },
     "metadata": {},
     "output_type": "display_data"
    }
   ],
   "source": [
    "task_6_viz_2 = rfm.query(\"segment == 'loyal customers' or segment == 'at risk' or segment == 'need attention'\")\n",
    "segments_counts = task_6_viz_2['segment'].value_counts().sort_values(ascending=True)\n",
    "\n",
    "fig, ax = plt.subplots()\n",
    "\n",
    "bars = ax.barh(range(len(segments_counts)),\n",
    "              segments_counts,\n",
    "              color='silver')\n",
    "ax.set_frame_on(False)\n",
    "ax.tick_params(left=False,\n",
    "               bottom=False,\n",
    "               labelbottom=False)\n",
    "ax.set_yticks(range(len(segments_counts)))\n",
    "ax.set_yticklabels(segments_counts.index)\n",
    "\n",
    "for i, bar in enumerate(bars):\n",
    "        value = bar.get_width()\n",
    "        if segments_counts.index[i] in ['loyal customers']:\n",
    "            bar.set_color('firebrick')\n",
    "        ax.text(value,\n",
    "                bar.get_y() + bar.get_height()/2,\n",
    "                '{:,} ({:}%)'.format(int(value),\n",
    "                                   int(value*100/segments_counts.sum())),\n",
    "                va='center',\n",
    "                ha='left'\n",
    "               )\n",
    "\n",
    "plt.show()"
   ]
  },
  {
   "cell_type": "markdown",
   "metadata": {},
   "source": [
    "# Extra 3.\n",
    "Я решил построить pieplot, чтобы выяснить, приносит ли группа лояльных пользователей ощутимый доход относительно остальных. Полученный результат показывает, что лояльные пользователи (по моим критериям) не являются основным источником дохода."
   ]
  },
  {
   "cell_type": "code",
   "execution_count": 66,
   "metadata": {},
   "outputs": [
    {
     "data": {
      "image/png": "[encoded data removed]",
      "text/plain": [
       "<Figure size 432x288 with 1 Axes>"
      ]
     },
     "metadata": {},
     "output_type": "display_data"
    }
   ],
   "source": [
    "rfm_extra_1 = rfm.query(\"segment == 'loyal customers'\").groupby('segment').agg({'monetary': 'sum'})\n",
    "rfm_extra_2 = rfm.query(\"segment != 'loyal customers'\").groupby('segment').agg({'monetary': 'sum'})\n",
    "pie_6 = []\n",
    "pie_6.append(rfm_extra_1.monetary.sum())\n",
    "pie_6.append(rfm_extra_2.monetary.sum())\n",
    "plt.pie(pie_6, labels = ['Loyal segments', 'Other segments'], autopct='%.0f%%')\n",
    "plt.show()"
   ]
  },
  {
   "cell_type": "code",
   "execution_count": null,
   "metadata": {},
   "outputs": [],
   "source": []
  }
 ],
 "metadata": {
  "kernelspec": {
   "display_name": "Python 3",
   "language": "python",
   "name": "python3"
  },
  "language_info": {
   "codemirror_mode": {
    "name": "ipython",
    "version": 3
   },
   "file_extension": ".py",
   "mimetype": "text/x-python",
   "name": "python",
   "nbconvert_exporter": "python",
   "pygments_lexer": "ipython3",
   "version": "3.7.3"
  }
 },
 "nbformat": 4,
 "nbformat_minor": 4
}
